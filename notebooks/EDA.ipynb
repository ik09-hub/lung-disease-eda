{
 "cells": [
  {
   "cell_type": "code",
   "execution_count": null,
   "id": "dffb2386",
   "metadata": {},
   "outputs": [],
   "source": [
    "import pandas as pd\n",
    "import numpy as np\n",
    "import seaborn as sns\n",
    "import matplotlib.pyplot as plt \n",
    "import os"
   ]
  },
  {
   "cell_type": "code",
   "execution_count": null,
   "id": "43006233",
   "metadata": {},
   "outputs": [],
   "source": [
    "#Open the CSV file\n",
    "lung_df = pd.read_csv('../data/lung_disease_data.csv')\n",
    "\n",
    "lung_df.head(50)\n"
   ]
  },
  {
   "cell_type": "code",
   "execution_count": null,
   "id": "bd6841ce",
   "metadata": {},
   "outputs": [],
   "source": [
    "##Data Cleaning\n",
    "\n",
    "#Drops duplicate rows\n",
    "lung_df.drop_duplicates\n",
    "\n",
    "#Makes a list of the categorical columns\n",
    "columns = ['Gender', 'Smoking Status', 'Disease Type', 'Treatment Type', 'Recovered']\n",
    "\n",
    "#Drops the na values in the specified columns\n",
    "lung_df = lung_df.dropna(subset=columns)\n",
    "\n",
    "#Checks if they are still null\n",
    "print(lung_df.isnull().sum())\n",
    "\n",
    "#For the other columns, fills the na values with the median of that column\n",
    "lung_df['Lung Capacity'].fillna(lung_df['Lung Capacity'].median(), inplace=True)\n",
    "lung_df['Hospital Visits'].fillna(lung_df['Hospital Visits'].median(), inplace=True)\n",
    "lung_df['Age'].fillna(lung_df['Age'].median(), inplace=True)\n",
    "\n",
    "#Reset the index column after dropping rows\n",
    "lung_df.reset_index(drop=True, inplace=True)\n",
    "\n",
    "#Check all columns should all have no null values\n",
    "print(lung_df.isnull().sum())\n",
    "\n",
    "#Check the data types of the columns\n",
    "print(lung_df.dtypes)\n",
    "\n",
    "lung_df\n"
   ]
  },
  {
   "cell_type": "code",
   "execution_count": 18,
   "id": "262b2743",
   "metadata": {},
   "outputs": [
    {
     "name": "stdout",
     "output_type": "stream",
     "text": [
      "Recovered\n",
      "Yes    1944\n",
      "No     1919\n",
      "Name: count, dtype: int64\n",
      "Recovered\n",
      "Yes    50.323583\n",
      "No     49.676417\n",
      "Name: proportion, dtype: float64\n"
     ]
    }
   ],
   "source": [
    "##Target Variable EDA\n",
    "\n",
    "#Quantative analysis of the target variable 'Recovered'\n",
    "print(lung_df['Recovered'].value_counts())\n",
    "print(lung_df['Recovered'].value_counts(normalize=True) * 100)\n",
    "\n",
    "\n",
    "#Visualize the distribution of the target variable 'Recovered'\n",
    "sns.countplot(x='Recovered', data=lung_df)\n",
    "plt.title('Distribution of Recovered Patients')\n",
    "plt.xlabel('Recovered')\n",
    "plt.ylabel('Count')\n",
    "plt.tight_layout()\n",
    "plt.savefig('../output/recovered_distribution.png')\n",
    "plt.close()"
   ]
  },
  {
   "cell_type": "code",
   "execution_count": 20,
   "id": "2a7999c9",
   "metadata": {},
   "outputs": [
    {
     "name": "stdout",
     "output_type": "stream",
     "text": [
      "  Recovered       mean  median\n",
      "0        No  54.415842    54.0\n",
      "1       Yes  54.244856    54.0\n",
      "Recovered     No  Yes\n",
      "Young        524  515\n",
      "Middle-Aged  621  674\n",
      "Senior       774  755\n"
     ]
    }
   ],
   "source": [
    "##Age Analysis\n",
    "\n",
    "#Histogram of Age\n",
    "plt.figure(figsize=(10, 6))\n",
    "sns.histplot(data=lung_df, x='Age', bins=20, kde=True)\n",
    "plt.title('Age Distribution of Patients')\n",
    "plt.xlabel('Age')\n",
    "plt.ylabel('Frequency')\n",
    "plt.tight_layout()\n",
    "plt.savefig('../output/age_distribution.png')\n",
    "plt.close()\n",
    "\n",
    "#Boxplot of Age by Recovered status\n",
    "plt.figure(figsize=(10, 6))\n",
    "sns.boxplot(x='Recovered', y='Age', data=lung_df)\n",
    "plt.title('Age Distribution by Recovered Status')\n",
    "plt.xlabel('Recovered')\n",
    "plt.ylabel('Age')\n",
    "plt.tight_layout()\n",
    "plt.savefig('../output/age_distribution_by_recovered.png')\n",
    "plt.close() \n",
    "\n",
    "# Mean/median age by recovery status\n",
    "grouped_age = lung_df.groupby('Recovered')['Age'].agg(['mean', 'median']).reset_index()\n",
    "print(grouped_age)\n",
    "\n",
    "#Binning Age into categories\n",
    "bins = [0, 40, 60, 100]\n",
    "labels = ['Young', 'Middle-Aged', 'Senior']\n",
    "lung_df['Age Group'] = pd.cut(lung_df['Age'], bins=bins, labels=labels, right=False)\n",
    "\n",
    "# Count of patients in each age group\n",
    "age_group_recovery_crosstab = pd.crosstab(lung_df['Age Group'], lung_df['Recovered'])\n",
    "age_group_recovery_crosstab.index.name = None\n",
    "print(age_group_recovery_crosstab)\n",
    "# Visualize the age groups\n",
    "plt.figure(figsize=(10, 6))\n",
    "sns.countplot(x='Age Group', data=lung_df, order=labels, hue ='Recovered')\n",
    "plt.title('Age Group Distribution by Recovery Status')\n",
    "plt.xlabel('Age Group')\n",
    "plt.ylabel('Count')\n",
    "plt.tight_layout()\n",
    "plt.savefig('../output/age_group_distribution_by_recovered.png')\n",
    "plt.close()\n",
    "\n"
   ]
  },
  {
   "cell_type": "code",
   "execution_count": 21,
   "id": "ea67cd89",
   "metadata": {},
   "outputs": [
    {
     "name": "stdout",
     "output_type": "stream",
     "text": [
      "Recovered   No  Yes\n",
      "Female     961  994\n",
      "Male       958  950\n"
     ]
    }
   ],
   "source": [
    "##Gender Analysis\n",
    "\n",
    "#Count by gender\n",
    "sns.countplot(x='Gender', data=lung_df)\n",
    "plt.title('Countplot of Gender')\n",
    "plt.xlabel('Gender')\n",
    "plt.ylabel('Count')\n",
    "plt.tight_layout()\n",
    "plt.savefig('../output/gender_distribution.png')\n",
    "plt.close()\n",
    "\n",
    "\n",
    "#Gender distribution by recovery status\n",
    "plt.figure(figsize=(10, 6))\n",
    "sns.countplot(x='Gender', data=lung_df, hue='Recovered')\n",
    "plt.title('Gender Distribution by Recovery Status')\n",
    "plt.tight_layout()\n",
    "plt.savefig('../output/gender_distribution_by_recovered.png')\n",
    "plt.close()\n",
    "\n",
    "#Crosstab\n",
    "\n",
    "gender_recovery_crosstab = pd.crosstab(lung_df['Gender'], lung_df['Recovered'])\n",
    "gender_recovery_crosstab.index.name = None\n",
    "print(gender_recovery_crosstab)"
   ]
  },
  {
   "cell_type": "code",
   "execution_count": null,
   "id": "af0e45ad",
   "metadata": {},
   "outputs": [],
   "source": [
    "#Smoking Status Analysis\n",
    "\n",
    "#Gender distribution by recovery status\n",
    "plt.figure(figsize=(10, 6))\n",
    "sns.countplot(x='Smoking Status', data=lung_df, hue='Recovered')\n",
    "plt.title('Smoking Status Distribution by Recovery')\n",
    "\n",
    "#Crosstab\n",
    "\n",
    "smoking_status_recovery_crosstab = pd.crosstab(lung_df['Smoking Status'], lung_df['Recovered'])\n",
    "smoking_status_recovery_crosstab.index.name = None\n",
    "print(smoking_status_recovery_crosstab)"
   ]
  },
  {
   "cell_type": "code",
   "execution_count": null,
   "id": "12da66a7",
   "metadata": {},
   "outputs": [],
   "source": [
    "##Disease Type Analysis\n",
    "\n",
    "#Count by disease type\n",
    "plt.figure(figsize=(10, 6))\n",
    "sns.countplot(x='Disease Type', data=lung_df)\n",
    "plt.title('Count of Disease Types')\n",
    "plt.xlabel('Disease Type')\n",
    "plt.ylabel('Count')\n",
    "plt.show()\n",
    "#Disease type distribution by recovery status\n",
    "plt.figure(figsize=(10, 6))\n",
    "sns.countplot(x='Disease Type', data=lung_df, hue='Recovered')\n",
    "plt.title('Disease Type Distribution by Recovery Status')\n",
    "plt.xlabel('Disease Type')\n",
    "plt.ylabel('Count')\n",
    "plt.show()\n",
    "\n",
    "#Crosstab\n",
    "disease_recovery_crosstab = pd.crosstab(lung_df['Disease Type'], lung_df['Recovered'])\n",
    "disease_recovery_crosstab.index.name = None\n",
    "print(disease_recovery_crosstab)\n"
   ]
  },
  {
   "cell_type": "code",
   "execution_count": null,
   "id": "f75235c8",
   "metadata": {},
   "outputs": [],
   "source": [
    "##Disease Type Analysis\n",
    "\n",
    "#Count by disease type\n",
    "plt.figure(figsize=(10, 6))\n",
    "sns.countplot(x='Disease Type', data=lung_df)\n",
    "plt.title('Count of Disease Types')\n",
    "plt.xlabel('Disease Type')\n",
    "plt.ylabel('Count')\n",
    "plt.show()\n",
    "#Disease type distribution by recovery status\n",
    "plt.figure(figsize=(10, 6))\n",
    "sns.countplot(x='Disease Type', data=lung_df, hue='Recovered')\n",
    "plt.title('Disease Type Distribution by Recovery Status')\n",
    "plt.xlabel('Disease Type')\n",
    "plt.ylabel('Count')\n",
    "plt.show()\n",
    "\n",
    "#Crosstab\n",
    "disease_recovery_crosstab = pd.crosstab(lung_df['Disease Type'], lung_df['Recovered'])\n",
    "disease_recovery_crosstab.index.name = None\n",
    "print(disease_recovery_crosstab)\n"
   ]
  },
  {
   "cell_type": "code",
   "execution_count": 22,
   "id": "9ed96610",
   "metadata": {},
   "outputs": [
    {
     "name": "stdout",
     "output_type": "stream",
     "text": [
      "Recovered    No   Yes\n",
      "Low        1037  1018\n",
      "Medium      343   353\n",
      "High        539   570\n"
     ]
    },
    {
     "data": {
      "image/png": "[encoded data removed]",
      "text/plain": [
       "<Figure size 1000x600 with 1 Axes>"
      ]
     },
     "metadata": {},
     "output_type": "display_data"
    }
   ],
   "source": [
    "##Lung Capacity Analysis\n",
    "\n",
    "#Histogram of Lung Capacity\n",
    "plt.figure(figsize=(10, 6))\n",
    "sns.histplot(data=lung_df, x='Lung Capacity', bins=20, kde=True)\n",
    "plt.title('Lung Capacity Distribution of Patients')\n",
    "plt.xlabel('Lung Capacity')\n",
    "plt.ylabel('Frequency')\n",
    "plt.tight_layout()\n",
    "plt.savefig('../output/lung_capacity_distribution.png')\n",
    "plt.close() \n",
    "\n",
    "#Boxplot of Age by Recovered status\n",
    "plt.figure(figsize=(10, 6))\n",
    "sns.boxplot(x='Recovered', y='Lung Capacity', data=lung_df)\n",
    "plt.title('Lung Capacity Distribution by Recovered Status')\n",
    "plt.xlabel('Recovered')\n",
    "plt.ylabel('Lung Capacity')\n",
    "plt.tight_layout()\n",
    "plt.savefig('../output/lung_capacity_distribution_by_recovered.png')\n",
    "plt.close() \n",
    "\n",
    "\n",
    "#Binning Lung Capacity into categories\n",
    "bins = [0, 3.5, 4.5, 6]\n",
    "labels = ['Low', 'Medium', 'High']\n",
    "lung_df['LungCapacity_Level'] = pd.cut(lung_df['Lung Capacity'], bins=bins, labels=labels, right=False)\n",
    "\n",
    "# Count of patients in each lung capacity level\n",
    "lung_capacity_recovery_crosstab = pd.crosstab(lung_df['LungCapacity_Level'], lung_df['Recovered'])\n",
    "lung_capacity_recovery_crosstab.index.name = None\n",
    "print(lung_capacity_recovery_crosstab)\n",
    "\n",
    "# Visualize the levels of lung capacity\n",
    "plt.figure(figsize=(10, 6))\n",
    "sns.countplot(x='LungCapacity_Level', data=lung_df, order=labels, hue ='Recovered')\n",
    "plt.title('Lung Capacity Level Distribution by Recovery Status')\n",
    "plt.xlabel('Lung Capacity Level')\n",
    "plt.ylabel('Count')\n",
    "plt.show()\n"
   ]
  },
  {
   "cell_type": "code",
   "execution_count": null,
   "id": "f347aedf",
   "metadata": {},
   "outputs": [],
   "source": [
    "##Healthcare Utilization Analysis\n",
    "\n",
    "#Hospital visits Distribution\n",
    "plt.figure(figsize=(10, 6))\n",
    "sns.histplot(data=lung_df, x='Hospital Visits', bins=20, kde=True)\n",
    "plt.title('Hospital Visits Distribution')\n",
    "plt.xlabel('Hospital Visits')\n",
    "plt.ylabel('Frequency')\n",
    "plt.show()\n",
    "\n",
    "#Boxplot of Hospital Visits by Recovered status\n",
    "plt.figure(figsize=(10, 6))\n",
    "sns.boxplot(x='Recovered', y='Hospital Visits', data=lung_df)\n",
    "plt.title('Hospital Visits by Recovered Status')\n",
    "plt.xlabel('Recovered')\n",
    "plt.ylabel('Hospital Visits')\n",
    "plt.show()\n",
    "\n",
    "#Binning Hospital Visits into categories\n",
    "bins = [0, 3, 7, 16]\n",
    "labels = ['Low Usage', 'Moderate', 'High Usage']\n",
    "lung_df['Visit_Tier'] = pd.cut(lung_df['Hospital Visits'], bins=bins, labels=labels, right=False)\n",
    "\n",
    "# Count of patients in each hospital visit tier\n",
    "hospital_visits_recovery_crosstab = pd.crosstab(lung_df['Visit_Tier'], lung_df['Recovered'])\n",
    "hospital_visits_recovery_crosstab.index.name = None\n",
    "print(hospital_visits_recovery_crosstab)\n",
    "\n",
    "# Visualize the tiers of hospital visits\n",
    "plt.figure(figsize=(10, 6))\n",
    "sns.countplot(x='Visit_Tier', data=lung_df, order=labels, hue ='Recovered')\n",
    "plt.title('Hospital Visits Level Distribution by Recovery Status')\n",
    "plt.xlabel('Hospital Visits Level')\n",
    "plt.ylabel('Count')\n",
    "plt.show()\n",
    "\n"
   ]
  },
  {
   "cell_type": "code",
   "execution_count": 15,
   "id": "04f2a9ef",
   "metadata": {},
   "outputs": [],
   "source": [
    "# Save the cleaned DataFrame to a new CSV file\n",
    "lung_df.to_csv('../data/lung_disease_clean.csv', index=False)\n"
   ]
  }
 ],
 "metadata": {
  "kernelspec": {
   "display_name": "Python 3",
   "language": "python",
   "name": "python3"
  },
  "language_info": {
   "codemirror_mode": {
    "name": "ipython",
    "version": 3
   },
   "file_extension": ".py",
   "mimetype": "text/x-python",
   "name": "python",
   "nbconvert_exporter": "python",
   "pygments_lexer": "ipython3",
   "version": "3.13.3"
  }
 },
 "nbformat": 4,
 "nbformat_minor": 5
}
