{
 "cells": [
  {
   "cell_type": "code",
   "execution_count": 18,
   "id": "e11ad700",
   "metadata": {},
   "outputs": [],
   "source": [
    "import pandas as pd\n",
    "import numpy as np\n",
    "import sys\n",
    "import os\n",
    "from sklearn.model_selection import train_test_split\n",
    "from sklearn.linear_model import LogisticRegression\n",
    "from sklearn.metrics import (\n",
    "    accuracy_score,\n",
    "    precision_score,\n",
    "    recall_score,\n",
    "    f1_score,\n",
    "    confusion_matrix,\n",
    "    roc_auc_score,\n",
    "    roc_curve,\n",
    "    classification_report\n",
    ")\n",
    "import matplotlib.pyplot as plt\n",
    "import seaborn as sns"
   ]
  },
  {
   "cell_type": "code",
   "execution_count": null,
   "id": "dd02ebc4",
   "metadata": {},
   "outputs": [],
   "source": [
    "lung_df = pd.read_csv('../data/lung_disease_clean.csv')\n",
    "\n",
    "print(lung_df['Gender'].unique())\n",
    "print(lung_df['Smoking Status'].unique())\n",
    "print(lung_df['Recovered'].unique())\n",
    "\n"
   ]
  },
  {
   "cell_type": "code",
   "execution_count": null,
   "id": "f3e296a6",
   "metadata": {},
   "outputs": [],
   "source": [
    "# Convert to binary for modeling\n",
    "lung_df['Gender'] = lung_df['Gender'].map({'Male': 1, 'Female': 0})\n",
    "lung_df['Smoking Status'] = lung_df['Smoking Status'].map({'Yes': 1, 'No': 0})\n",
    "lung_df['Recovered'] = lung_df['Recovered'].map({'Yes': 1, 'No': 0})\n"
   ]
  },
  {
   "cell_type": "code",
   "execution_count": null,
   "id": "20dc8a2e",
   "metadata": {},
   "outputs": [],
   "source": [
    "print(lung_df[['Gender', 'Smoking Status', 'Recovered']].isnull().sum())\n",
    "print(lung_df[['Gender', 'Smoking Status', 'Recovered']].dtypes)\n"
   ]
  },
  {
   "cell_type": "code",
   "execution_count": null,
   "id": "fd63cf4b",
   "metadata": {},
   "outputs": [],
   "source": [
    "# Create dummy variables\n",
    "disease_dummies = pd.get_dummies(lung_df['Disease Type'], prefix='Disease', drop_first=True)\n",
    "treatment_dummies = pd.get_dummies(lung_df['Treatment Type'], prefix='Treatment', drop_first=True)\n",
    "# Concatenate the dummy variables with the original DataFrame\n",
    "lung_df = pd.concat([lung_df, disease_dummies, treatment_dummies], axis=1)\n",
    "# Drop the original categorical columns\n",
    "lung_df.drop(['Disease Type', 'Treatment Type'], axis=1, inplace=True)\n",
    "\n",
    "print(lung_df.columns)\n"
   ]
  },
  {
   "cell_type": "code",
   "execution_count": null,
   "id": "8b117b02",
   "metadata": {},
   "outputs": [],
   "source": [
    "lung_df.isnull().sum()"
   ]
  },
  {
   "cell_type": "code",
   "execution_count": null,
   "id": "d81ff621",
   "metadata": {},
   "outputs": [],
   "source": [
    "##Logistic Regression Model"
   ]
  },
  {
   "cell_type": "code",
   "execution_count": 21,
   "id": "98151778",
   "metadata": {},
   "outputs": [],
   "source": [
    "##Test/Train Split\n",
    "\n",
    "y = lung_df['Recovered']\n",
    "\n",
    "\n",
    "feature_cols = [\n",
    "    'Age', 'Lung Capacity', 'Hospital Visits',\n",
    "    'Gender', 'Smoking Status',\n",
    "    'Disease_Bronchitis', 'Disease_COPD', 'Disease_Lung Cancer', 'Disease_Pneumonia',\n",
    "    'Treatment_Surgery', 'Treatment_Therapy'\n",
    "]\n",
    "X = lung_df[feature_cols]\n",
    "\n",
    "X_train, X_test, y_train, y_test = train_test_split(\n",
    "    X, y, test_size=0.2, random_state=42, stratify=y)\n",
    "\n"
   ]
  },
  {
   "cell_type": "code",
   "execution_count": 23,
   "id": "3b2352c0",
   "metadata": {},
   "outputs": [],
   "source": [
    "##Model Training\n",
    "model = LogisticRegression(max_iter=1000, random_state=42)\n",
    "model.fit(X_train, y_train)\n",
    "\n",
    "# Predictions\n",
    "y_pred = model.predict(X_test)\n",
    "y_proba = model.predict_proba(X_test)[:, 1]"
   ]
  },
  {
   "cell_type": "code",
   "execution_count": 31,
   "id": "0778e6c9",
   "metadata": {},
   "outputs": [
    {
     "name": "stdout",
     "output_type": "stream",
     "text": [
      "Accuracy: 0.5472186287192755\n",
      "Precision: 0.5474452554744526\n",
      "Recall: 0.5784061696658098\n",
      "F1 Score: 0.5625\n",
      "ROC AUC: 0.5467611932305055\n"
     ]
    }
   ],
   "source": [
    "print(\"Accuracy:\", accuracy_score(y_test, y_pred))\n",
    "print(\"Precision:\", precision_score(y_test, y_pred))\n",
    "print(\"Recall:\", recall_score(y_test, y_pred))\n",
    "print(\"F1 Score:\", f1_score(y_test, y_pred))\n",
    "print(\"ROC AUC:\", roc_auc_score(y_test, y_proba))\n",
    "\n",
    "# Confusion matrix\n",
    "conf_matrix = confusion_matrix(y_test, y_pred)\n",
    "sns.heatmap(conf_matrix, annot=True, fmt='d', cmap='Blues')\n",
    "plt.title('Confusion Matrix')\n",
    "plt.xlabel('Predicted')\n",
    "plt.ylabel('Actual')\n",
    "plt.tight_layout()\n",
    "plt.savefig('../output/confusion_matrix_logreg.png')\n",
    "plt.close()"
   ]
  },
  {
   "cell_type": "code",
   "execution_count": null,
   "id": "8403bfe7",
   "metadata": {},
   "outputs": [],
   "source": [
    "##Random Forest Model"
   ]
  },
  {
   "cell_type": "code",
   "execution_count": 33,
   "id": "2218caaa",
   "metadata": {},
   "outputs": [
    {
     "name": "stdout",
     "output_type": "stream",
     "text": [
      "Accuracy: 0.48771021992238034\n",
      "Precision: 0.4909090909090909\n",
      "Recall: 0.48586118251928023\n",
      "F1 Score: 0.4883720930232558\n",
      "ROC AUC: 0.51680323479006\n"
     ]
    }
   ],
   "source": [
    "from sklearn.ensemble import RandomForestClassifier\n",
    "\n",
    "#Initialize model\n",
    "rf_model = RandomForestClassifier(n_estimators=100, random_state=42)\n",
    "\n",
    "# Fit the model\n",
    "rf_model.fit(X_train, y_train)\n",
    "\n",
    "# Predictions\n",
    "rf_preds = rf_model.predict(X_test)\n",
    "rf_probs = rf_model.predict_proba(X_test)[:, 1]  # For ROC AUC\n",
    "\n",
    "# Evaluation metrics\n",
    "print(\"Accuracy:\", accuracy_score(y_test, rf_preds))\n",
    "print(\"Precision:\", precision_score(y_test, rf_preds))\n",
    "print(\"Recall:\", recall_score(y_test, rf_preds))\n",
    "print(\"F1 Score:\", f1_score(y_test, rf_preds))\n",
    "print(\"ROC AUC:\", roc_auc_score(y_test, rf_probs))\n",
    "\n",
    "# Confusion Matrix\n",
    "sns.heatmap(confusion_matrix(y_test, rf_preds), annot=True, fmt='d', cmap='YlGnBu')\n",
    "plt.title('Random Forest - Confusion Matrix')\n",
    "plt.xlabel('Predicted')\n",
    "plt.ylabel('Actual')\n",
    "plt.tight_layout()\n",
    "plt.savefig('../output/confusion_matrix_rf.png')\n",
    "plt.close()\n",
    "\n",
    "\n",
    "# Feature Importances\n",
    "importances = pd.Series(rf_model.feature_importances_, index=X.columns)\n",
    "importances.sort_values().plot(kind='barh', figsize=(10,6))\n",
    "plt.title(\"Feature Importances - Random Forest\")\n",
    "plt.tight_layout()\n",
    "plt.savefig('../output/feature_importance_rf.png')\n",
    "plt.close()\n",
    "\n",
    "\n"
   ]
  }
 ],
 "metadata": {
  "kernelspec": {
   "display_name": "Python 3",
   "language": "python",
   "name": "python3"
  },
  "language_info": {
   "codemirror_mode": {
    "name": "ipython",
    "version": 3
   },
   "file_extension": ".py",
   "mimetype": "text/x-python",
   "name": "python",
   "nbconvert_exporter": "python",
   "pygments_lexer": "ipython3",
   "version": "3.13.3"
  }
 },
 "nbformat": 4,
 "nbformat_minor": 5
}
